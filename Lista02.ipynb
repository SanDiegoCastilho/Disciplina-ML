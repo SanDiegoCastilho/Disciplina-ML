{
 "cells": [
  {
   "cell_type": "code",
   "execution_count": 63,
   "metadata": {},
   "outputs": [],
   "source": [
    "import numpy as np\n",
    "import matplotlib.pyplot as plt  # Biblioteca para gerar gráficos\n",
    "import random"
   ]
  },
  {
   "cell_type": "markdown",
   "metadata": {},
   "source": [
    "# CLassificadores:\n",
    "\n",
    "## Regressão Logística\n",
    "\n",
    "### Funções auxiliares"
   ]
  },
  {
   "cell_type": "code",
   "execution_count": 64,
   "metadata": {},
   "outputs": [],
   "source": [
    "def sigmoide(Z):\n",
    "    return 1 / (1 + np.exp((-1 * Z)))"
   ]
  },
  {
   "cell_type": "code",
   "execution_count": 65,
   "metadata": {},
   "outputs": [],
   "source": [
    "def GradienteDescendente(X, Y, epocas, alpha):\n",
    "    Erros = []\n",
    "    \n",
    "    #Cria um array para \n",
    "    W = np.zeros((X.shape[1], 1))\n",
    "    \n",
    "    for t in range(0, epocas):\n",
    "        #Calculo do erro na iteração t\n",
    "        Y_ = (X @ W)\n",
    "        Erro  = Y - sigmoide(Y_)\n",
    "        Erros.append(np.mean(Erro))\n",
    "        \n",
    "        #Ajuste dos pesos na iteração t\n",
    "        X_ = Erro * X\n",
    "        Media = np.mean((Erro), axis = 0, keepdims=True)\n",
    "        W = W + alpha * Media.T\n",
    "        \n",
    "    return (W, Y_, Erros)"
   ]
  },
  {
   "cell_type": "code",
   "execution_count": 66,
   "metadata": {},
   "outputs": [],
   "source": [
    "def kfold(qtd_linhas, seed = 42, k = 10):\n",
    "    #Cria uma lista com os indices do dataset\n",
    "    indices_dataset = list(range(qtd_linhas))\n",
    "    \n",
    "    #Define o tamanho do dataset\n",
    "    tamanho_subset = round(len(indices_dataset) / k)\n",
    "    \n",
    "    #Cria uma lista de subconjuto de indices\n",
    "    random.Random(42).shuffle(indices_dataset)\n",
    "    lista_subsets = [indices_dataset[x : x + tamanho_subset] for x in range(0, len(indices_dataset), tamanho_subset)]\n",
    "\n",
    "    kfolds = []\n",
    "    for i in range(k):\n",
    "        teste = lista_subsets[i]\n",
    "        treino = []\n",
    "        for subset in lista_subsets:\n",
    "            if subset != teste:\n",
    "                treino.append(subset)\n",
    "        kfolds.append((teste, treino))\n",
    "        \n",
    "    return kfolds"
   ]
  },
  {
   "cell_type": "code",
   "execution_count": 67,
   "metadata": {},
   "outputs": [],
   "source": [
    "def montar_instancias(lista_indices, data_set, treino = True):\n",
    "    instancias = []\n",
    "    \n",
    "    if treino:\n",
    "        for lista in lista_indices:\n",
    "            for indice in lista:\n",
    "                instancias.append(data_set[indice])\n",
    "    else:\n",
    "        for indice in lista_indices:\n",
    "            instancias.append(data_set[indice])\n",
    "            \n",
    "    return np.array(instancias)"
   ]
  },
  {
   "cell_type": "markdown",
   "metadata": {},
   "source": [
    "### Função Principal"
   ]
  },
  {
   "cell_type": "code",
   "execution_count": 68,
   "metadata": {},
   "outputs": [],
   "source": [
    "data_set = np.genfromtxt('breastcancer.csv', delimiter = ',')\n",
    "k = 10\n",
    "\n",
    "#Por questão de legibilidade\n",
    "qtd_linhas, qtd_colunas = data_set.shape\n",
    "data_set = np.c_[np.ones((1, qtd_linhas)).T, data_set]\n",
    "\n",
    "#Calcula os conjuntos de teste e treino\n",
    "kfolds = kfold(qtd_linhas) \n",
    "\n",
    "testes = []\n",
    "treinos = []\n",
    "for teste, treino in kfolds:\n",
    "    testes.append(montar_instancias(teste, data_set,  treino=False))\n",
    "    treinos.append(montar_instancias(treino, data_set, treino=True))\n",
    "    \n",
    "resultado = []\n",
    "for i in range(0, k):\n",
    "    \n",
    "    menor_erro = 10\n",
    "    for treino in treinos:\n",
    "        X_treino = treino[:, :-1]\n",
    "        Y_treino = treino[:, [-1]]\n",
    "        W, Y_, Erros = GradienteDescendente(X_treino, Y_treino, 2000, 0.001)\n",
    "        \n",
    "        if Erros[-1] < menor_erro:\n",
    "            menor_erro = Erros[-1]\n",
    "            melhor_w = W\n",
    "            \n",
    "    # resultado_treino.append((melhor_w, Erros[-1]))\n",
    "    X_teste = testes[i][:, :-1]\n",
    "    Y_teste = testes[i][:, [-1]]\n",
    "    \n",
    "    Y_ = X_teste @ melhor_w\n",
    "    erro_teste = np.mean(( Y_teste - sigmoide(Y_)))\n",
    "    \n",
    "    resultado.append((melhor_w, Erros[-1], erro_teste))"
   ]
  },
  {
   "cell_type": "markdown",
   "metadata": {},
   "source": [
    "### Analise dos resultados:"
   ]
  },
  {
   "cell_type": "markdown",
   "metadata": {},
   "source": [
    "## Analise do Discriminante Gaussiano"
   ]
  },
  {
   "cell_type": "code",
   "execution_count": 106,
   "metadata": {},
   "outputs": [],
   "source": [
    "#Por questões de legibilidade\n",
    "qtd_linhas, qtd_colunas = data_set.shape\n",
    "\n",
    "def calcula_numero_classe(data_set):\n",
    "    #Conta a quantidade de classes, cada posição no vetor representa uma classe\n",
    "    N_classes = [0, 0]\n",
    "    for inf in data_set:\n",
    "        if inf[-1] == 0.0:\n",
    "            N_classes[0] += 1\n",
    "        else:\n",
    "            N_classes[1] += 1\n",
    "    return N_classes\n",
    "\n",
    "def calcula_prob_classe(data_set, N_classe):\n",
    "    N = data_set.shape[0]\n",
    "    # Prob_classe é um vetor onde cada posíção representa uma classe e o valor associado a probabilidade\n",
    "    pob_classe = [0, 0]\n",
    "    for c in range(0, Nk):\n",
    "        pob_classe[c] = N_classes[c] / N\n",
    "        \n",
    "    return pob_classe\n",
    "\n",
    "def calcula_medias_classe(data_set):\n",
    "    #Calculando Médias das classes:\n",
    "    medias = np.zeros(2)\n",
    "    for inf in data_set:\n",
    "        if inf[-1] == 0.0:\n",
    "            medias[0] += inf[:-1].sum()\n",
    "        else:\n",
    "            medias[1] += inf[:-1].sum()\n",
    "\n",
    "    medias[0] = medias[0] / N_classes[0]\n",
    "    medias[1] = medias[1] / N_classes[1]\n",
    "    \n",
    "    return medias\n",
    "\n",
    "def calcula_sigmas_classe(data_set, medias, N_classes):\n",
    "    #Calculando os desvios padrão de cada classe\n",
    "    sigmas = [0, 0]\n",
    "    for inf in data_set:\n",
    "        if inf[-1] == 0:\n",
    "            sigmas[0] += (inf[:-1] - medias[0]) @ (inf[:-1] - medias[0]).T\n",
    "        else:\n",
    "            sigmas[1] += (inf[:-1] - medias[1]) @ (inf[:-1] - medias[1]).T\n",
    "    \n",
    "    for j in range(2):\n",
    "        aux = np.zeros(4)\n",
    "        \n",
    "        for i in range(4):\n",
    "            if i == 0 or i == 3:\n",
    "                aux[i] = (sigmas[j] / (N_classes[j] - 1)) ** 2\n",
    "            else:\n",
    "                aux[i] = (sigmas[j] / (N_classes[j] - 1))\n",
    "            \n",
    "        sigmas[j] = aux\n",
    "        \n",
    "    return np.array(sigmas)"
   ]
  },
  {
   "cell_type": "code",
   "execution_count": 107,
   "metadata": {},
   "outputs": [],
   "source": [
    "def discriminante_gaussiano(prob_classe, N_classe, medias, sigmas, X):\n",
    "    Y_ = np.zeros(2)\n",
    "    \n",
    "    for i in range(0, 2):\n",
    "        Y_[i] = np.log(prob_classe[i]) @ ((-1/2) * np.log(sigmas[i])) @ ((-1/2) * (X - medias[i]).T) @ np.linalg.inv(sigmas[i]) @ (X - medias[i])\n",
    "        \n",
    "    return Y_.argmax()"
   ]
  },
  {
   "cell_type": "markdown",
   "metadata": {},
   "source": [
    "### Função Principal\n"
   ]
  },
  {
   "cell_type": "code",
   "execution_count": 108,
   "metadata": {},
   "outputs": [
    {
     "ename": "ValueError",
     "evalue": "matmul: Input operand 0 does not have enough dimensions (has 0, gufunc core with signature (n?,k),(k,m?)->(n?,m?) requires 1)",
     "output_type": "error",
     "traceback": [
      "\u001b[1;31m---------------------------------------------------------------------------\u001b[0m",
      "\u001b[1;31mValueError\u001b[0m                                Traceback (most recent call last)",
      "\u001b[1;32m<ipython-input-108-68ef70067a8e>\u001b[0m in \u001b[0;36m<module>\u001b[1;34m\u001b[0m\n\u001b[0;32m     22\u001b[0m     \u001b[0mY_teste\u001b[0m \u001b[1;33m=\u001b[0m \u001b[0mtestes\u001b[0m\u001b[1;33m[\u001b[0m\u001b[0mi\u001b[0m\u001b[1;33m]\u001b[0m\u001b[1;33m[\u001b[0m\u001b[1;33m:\u001b[0m\u001b[1;33m,\u001b[0m \u001b[1;33m[\u001b[0m\u001b[1;33m-\u001b[0m\u001b[1;36m1\u001b[0m\u001b[1;33m]\u001b[0m\u001b[1;33m]\u001b[0m\u001b[1;33m\u001b[0m\u001b[1;33m\u001b[0m\u001b[0m\n\u001b[0;32m     23\u001b[0m \u001b[1;33m\u001b[0m\u001b[0m\n\u001b[1;32m---> 24\u001b[1;33m     \u001b[0mY_\u001b[0m \u001b[1;33m=\u001b[0m \u001b[0mdiscriminante_gaussiano\u001b[0m\u001b[1;33m(\u001b[0m\u001b[0mprob_classe\u001b[0m\u001b[1;33m,\u001b[0m \u001b[0mN_classe\u001b[0m\u001b[1;33m,\u001b[0m \u001b[0mmedias\u001b[0m\u001b[1;33m,\u001b[0m \u001b[0msigmas\u001b[0m\u001b[1;33m,\u001b[0m \u001b[0mX_teste\u001b[0m\u001b[1;33m)\u001b[0m\u001b[1;33m\u001b[0m\u001b[1;33m\u001b[0m\u001b[0m\n\u001b[0m\u001b[0;32m     25\u001b[0m \u001b[1;33m\u001b[0m\u001b[0m\n\u001b[0;32m     26\u001b[0m     \u001b[0mresultado\u001b[0m\u001b[1;33m.\u001b[0m\u001b[0mappend\u001b[0m\u001b[1;33m(\u001b[0m\u001b[0mY_\u001b[0m\u001b[1;33m)\u001b[0m\u001b[1;33m\u001b[0m\u001b[1;33m\u001b[0m\u001b[0m\n",
      "\u001b[1;32m<ipython-input-107-bbfed74dc678>\u001b[0m in \u001b[0;36mdiscriminante_gaussiano\u001b[1;34m(prob_classe, N_classe, medias, sigmas, X)\u001b[0m\n\u001b[0;32m      3\u001b[0m \u001b[1;33m\u001b[0m\u001b[0m\n\u001b[0;32m      4\u001b[0m     \u001b[1;32mfor\u001b[0m \u001b[0mi\u001b[0m \u001b[1;32min\u001b[0m \u001b[0mrange\u001b[0m\u001b[1;33m(\u001b[0m\u001b[1;36m0\u001b[0m\u001b[1;33m,\u001b[0m \u001b[1;36m2\u001b[0m\u001b[1;33m)\u001b[0m\u001b[1;33m:\u001b[0m\u001b[1;33m\u001b[0m\u001b[1;33m\u001b[0m\u001b[0m\n\u001b[1;32m----> 5\u001b[1;33m         \u001b[0mY_\u001b[0m\u001b[1;33m[\u001b[0m\u001b[0mi\u001b[0m\u001b[1;33m]\u001b[0m \u001b[1;33m=\u001b[0m \u001b[0mnp\u001b[0m\u001b[1;33m.\u001b[0m\u001b[0mlog\u001b[0m\u001b[1;33m(\u001b[0m\u001b[0mprob_classe\u001b[0m\u001b[1;33m[\u001b[0m\u001b[0mi\u001b[0m\u001b[1;33m]\u001b[0m\u001b[1;33m)\u001b[0m \u001b[1;33m@\u001b[0m \u001b[1;33m(\u001b[0m\u001b[1;33m(\u001b[0m\u001b[1;33m-\u001b[0m\u001b[1;36m1\u001b[0m\u001b[1;33m/\u001b[0m\u001b[1;36m2\u001b[0m\u001b[1;33m)\u001b[0m \u001b[1;33m*\u001b[0m \u001b[0mnp\u001b[0m\u001b[1;33m.\u001b[0m\u001b[0mlog\u001b[0m\u001b[1;33m(\u001b[0m\u001b[0msigmas\u001b[0m\u001b[1;33m[\u001b[0m\u001b[0mi\u001b[0m\u001b[1;33m]\u001b[0m\u001b[1;33m)\u001b[0m\u001b[1;33m)\u001b[0m \u001b[1;33m@\u001b[0m \u001b[1;33m(\u001b[0m\u001b[1;33m(\u001b[0m\u001b[1;33m-\u001b[0m\u001b[1;36m1\u001b[0m\u001b[1;33m/\u001b[0m\u001b[1;36m2\u001b[0m\u001b[1;33m)\u001b[0m \u001b[1;33m*\u001b[0m \u001b[1;33m(\u001b[0m\u001b[0mX\u001b[0m \u001b[1;33m-\u001b[0m \u001b[0mmedias\u001b[0m\u001b[1;33m[\u001b[0m\u001b[0mi\u001b[0m\u001b[1;33m]\u001b[0m\u001b[1;33m)\u001b[0m\u001b[1;33m.\u001b[0m\u001b[0mT\u001b[0m\u001b[1;33m)\u001b[0m \u001b[1;33m@\u001b[0m \u001b[0mnp\u001b[0m\u001b[1;33m.\u001b[0m\u001b[0mlinalg\u001b[0m\u001b[1;33m.\u001b[0m\u001b[0minv\u001b[0m\u001b[1;33m(\u001b[0m\u001b[0msigmas\u001b[0m\u001b[1;33m[\u001b[0m\u001b[0mi\u001b[0m\u001b[1;33m]\u001b[0m\u001b[1;33m)\u001b[0m \u001b[1;33m@\u001b[0m \u001b[1;33m(\u001b[0m\u001b[0mX\u001b[0m \u001b[1;33m-\u001b[0m \u001b[0mmedias\u001b[0m\u001b[1;33m[\u001b[0m\u001b[0mi\u001b[0m\u001b[1;33m]\u001b[0m\u001b[1;33m)\u001b[0m\u001b[1;33m\u001b[0m\u001b[1;33m\u001b[0m\u001b[0m\n\u001b[0m\u001b[0;32m      6\u001b[0m \u001b[1;33m\u001b[0m\u001b[0m\n\u001b[0;32m      7\u001b[0m     \u001b[1;32mreturn\u001b[0m \u001b[0mY_\u001b[0m\u001b[1;33m.\u001b[0m\u001b[0margmax\u001b[0m\u001b[1;33m(\u001b[0m\u001b[1;33m)\u001b[0m\u001b[1;33m\u001b[0m\u001b[1;33m\u001b[0m\u001b[0m\n",
      "\u001b[1;31mValueError\u001b[0m: matmul: Input operand 0 does not have enough dimensions (has 0, gufunc core with signature (n?,k),(k,m?)->(n?,m?) requires 1)"
     ]
    }
   ],
   "source": [
    "data_set = np.genfromtxt('breastcancer.csv', delimiter = ',')\n",
    "\n",
    "#Calcula os conjuntos de teste e treino\n",
    "kfolds = kfold(qtd_linhas) \n",
    "\n",
    "testes = []\n",
    "treinos = []\n",
    "for teste, treino in kfolds:\n",
    "    testes.append(montar_instancias(teste, data_set,  treino=False))\n",
    "    treinos.append(montar_instancias(treino, data_set, treino=True))\n",
    "    \n",
    "resultado = []\n",
    "for i in range(0, k):\n",
    "    for treino in treinos:\n",
    "        N_classe = calcula_numero_classe(treino)\n",
    "        prob_classe = calcula_prob_classe(treino, N_classe)\n",
    "        medias = calcula_medias_classe(treino)\n",
    "        sigmas = calcula_sigmas_classe(treino, medias, N_classes)\n",
    "        \n",
    "    # \n",
    "    X_teste = testes[i][:, :-1]\n",
    "    Y_teste = testes[i][:, [-1]]\n",
    "    \n",
    "    Y_ = discriminante_gaussiano(prob_classe, N_classe, medias, sigmas, X_teste)\n",
    "    \n",
    "    resultado.append(Y_)"
   ]
  },
  {
   "cell_type": "code",
   "execution_count": 71,
   "metadata": {},
   "outputs": [],
   "source": [
    "teste = calcula_sigmas_classe(data_set)"
   ]
  },
  {
   "cell_type": "code",
   "execution_count": 72,
   "metadata": {},
   "outputs": [
    {
     "data": {
      "text/plain": [
       "array([2.36756215e+08, 4.82979012e+07])"
      ]
     },
     "execution_count": 72,
     "metadata": {},
     "output_type": "execute_result"
    }
   ],
   "source": [
    "teste"
   ]
  },
  {
   "cell_type": "code",
   "execution_count": 76,
   "metadata": {},
   "outputs": [],
   "source": [
    "teste = (zip([0, 1], [0, 1, 2, 3]))"
   ]
  },
  {
   "cell_type": "code",
   "execution_count": 77,
   "metadata": {},
   "outputs": [
    {
     "data": {
      "text/plain": [
       "<zip at 0x2471c84fb00>"
      ]
     },
     "execution_count": 77,
     "metadata": {},
     "output_type": "execute_result"
    }
   ],
   "source": [
    "teste"
   ]
  },
  {
   "cell_type": "code",
   "execution_count": 81,
   "metadata": {},
   "outputs": [
    {
     "name": "stdout",
     "output_type": "stream",
     "text": [
      "0 0\n",
      "1 1\n",
      "2 2\n",
      "3 3\n"
     ]
    }
   ],
   "source": [
    "for i, j in enumerate([0, 1, 2, 3]):\n",
    "    print(i, j)"
   ]
  },
  {
   "cell_type": "code",
   "execution_count": 90,
   "metadata": {},
   "outputs": [
    {
     "ename": "AttributeError",
     "evalue": "'numpy.ndarray' object has no attribute 'amax'",
     "output_type": "error",
     "traceback": [
      "\u001b[1;31m---------------------------------------------------------------------------\u001b[0m",
      "\u001b[1;31mAttributeError\u001b[0m                            Traceback (most recent call last)",
      "\u001b[1;32m<ipython-input-90-a20ad16efe65>\u001b[0m in \u001b[0;36m<module>\u001b[1;34m\u001b[0m\n\u001b[1;32m----> 1\u001b[1;33m \u001b[0mnp\u001b[0m\u001b[1;33m.\u001b[0m\u001b[0mlog\u001b[0m\u001b[1;33m(\u001b[0m\u001b[0mnp\u001b[0m\u001b[1;33m.\u001b[0m\u001b[0marray\u001b[0m\u001b[1;33m(\u001b[0m\u001b[1;33m[\u001b[0m\u001b[1;33m[\u001b[0m\u001b[1;36m1\u001b[0m\u001b[1;33m,\u001b[0m\u001b[1;36m2\u001b[0m\u001b[1;33m,\u001b[0m\u001b[1;36m3\u001b[0m\u001b[1;33m]\u001b[0m\u001b[1;33m,\u001b[0m \u001b[1;33m[\u001b[0m\u001b[1;36m1\u001b[0m\u001b[1;33m,\u001b[0m\u001b[1;36m2\u001b[0m\u001b[1;33m,\u001b[0m\u001b[1;36m3\u001b[0m\u001b[1;33m]\u001b[0m\u001b[1;33m]\u001b[0m\u001b[1;33m)\u001b[0m\u001b[1;33m)\u001b[0m\u001b[1;33m.\u001b[0m\u001b[0mamax\u001b[0m\u001b[1;33m(\u001b[0m\u001b[1;33m)\u001b[0m\u001b[1;33m\u001b[0m\u001b[1;33m\u001b[0m\u001b[0m\n\u001b[0m",
      "\u001b[1;31mAttributeError\u001b[0m: 'numpy.ndarray' object has no attribute 'amax'"
     ]
    }
   ],
   "source": [
    "np.log().amax()\n"
   ]
  },
  {
   "cell_type": "code",
   "execution_count": 97,
   "metadata": {},
   "outputs": [
    {
     "data": {
      "text/plain": [
       "2"
      ]
     },
     "execution_count": 97,
     "metadata": {},
     "output_type": "execute_result"
    }
   ],
   "source": [
    "np.array([1,2,3]).argmax(axis=0)"
   ]
  },
  {
   "cell_type": "code",
   "execution_count": null,
   "metadata": {},
   "outputs": [],
   "source": []
  }
 ],
 "metadata": {
  "kernelspec": {
   "display_name": "Python 3",
   "language": "python",
   "name": "python3"
  },
  "language_info": {
   "codemirror_mode": {
    "name": "ipython",
    "version": 3
   },
   "file_extension": ".py",
   "mimetype": "text/x-python",
   "name": "python",
   "nbconvert_exporter": "python",
   "pygments_lexer": "ipython3",
   "version": "3.8.5"
  }
 },
 "nbformat": 4,
 "nbformat_minor": 4
}
