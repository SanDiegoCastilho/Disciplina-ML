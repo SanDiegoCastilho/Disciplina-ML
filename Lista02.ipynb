{
 "cells": [
  {
   "cell_type": "code",
   "execution_count": 36,
   "metadata": {},
   "outputs": [],
   "source": [
    "import numpy as np\n",
    "import matplotlib.pyplot as plt  # Biblioteca para gerar gráficos"
   ]
  },
  {
   "cell_type": "code",
   "execution_count": 60,
   "metadata": {},
   "outputs": [],
   "source": [
    "def sigmoide(Z):\n",
    "    return 1 / (1 + np.exp((-1 * Z)))"
   ]
  },
  {
   "cell_type": "code",
   "execution_count": 59,
   "metadata": {},
   "outputs": [],
   "source": [
    "def GradienteDescendente(X, Y, epocas, alpha):\n",
    "    Erros = []\n",
    "    \n",
    "    #Cria um array para \n",
    "    W = np.zeros((X.shape[1], 1))\n",
    "    \n",
    "    for t in range(0, epocas):\n",
    "        #Calculo do erro na iteração t\n",
    "        Y_ = (X @ W)\n",
    "        Erro  = Y - sigmoide(Y_)\n",
    "        Erros.append(np.mean(Erro))\n",
    "        \n",
    "        #Ajuste dos pesos na iteração t\n",
    "        X_ = Erro * X\n",
    "        Media = np.mean((Erro), axis = 0, keepdims=True)\n",
    "        W = W + alpha * Media.T\n",
    "        \n",
    "    return (W, Y_, Erros)"
   ]
  },
  {
   "cell_type": "code",
   "execution_count": 111,
   "metadata": {},
   "outputs": [],
   "source": [
    "def kfold(qtd_linhas, seed = 42, k = 10):\n",
    "    #Cria uma lista com os indices do dataset\n",
    "    indices_dataset = list(range(qtd_linhas))\n",
    "    \n",
    "    #Define o tamanho do dataset\n",
    "    tamanho_subset = round(len(indices_dataset) / k)\n",
    "    \n",
    "    #Cria uma lista de subconjuto de indices\n",
    "    random.Random(42).shuffle(indices_dataset)\n",
    "    lista_subsets = [indices_dataset[x : x + tamanho_subset] for x in range(0, len(indices_dataset), tamanho_subset)]\n",
    "\n",
    "    kfolds = []\n",
    "    for i in range(k):\n",
    "        teste = lista_subsets[i]\n",
    "        treino = []\n",
    "        for subset in lista_subsets:\n",
    "            if subset != teste:\n",
    "                treino.append(subset)\n",
    "        kfolds.append((teste, treino))\n",
    "        \n",
    "    return kfolds"
   ]
  },
  {
   "cell_type": "code",
   "execution_count": 217,
   "metadata": {},
   "outputs": [],
   "source": [
    "def montar_instancias(lista_indices, data_set, treino = True):\n",
    "    instancias = []\n",
    "    \n",
    "    if treino:\n",
    "        for lista in lista_indices:\n",
    "            for indice in lista:\n",
    "                instancias.append(data_set[indice])\n",
    "    else:\n",
    "        for indice in lista_indices:\n",
    "            instancias.append(data_set[indice])\n",
    "            \n",
    "    return np.array(instancias)"
   ]
  },
  {
   "cell_type": "code",
   "execution_count": 245,
   "metadata": {},
   "outputs": [],
   "source": [
    "data_set = np.genfromtxt('breastcancer.csv', delimiter = ',')\n",
    "\n",
    "#Por questão de legibilidade\n",
    "qtd_linhas, qtd_colunas = data_set.shape\n",
    "\n",
    "data_set = np.c_[np.ones((1, qtd_linhas)).T, data_set]\n",
    "\n",
    "#Calcula os conjuntos de teste e treino\n",
    "kfolds = kfold(qtd_linhas) \n",
    "\n",
    "testes = []\n",
    "treinos = []\n",
    "for teste, treino in kfolds:\n",
    "    testes.append(montar_instancias(teste, data_set,  treino=False))\n",
    "    treinos.append(montar_instancias(treino, data_set, treino=True))\n",
    "    \n",
    "resultado_treino = []\n",
    "for treino in treinos:\n",
    "    X_treino = treino[:, :-1]\n",
    "    Y_treino = treino[:, [-1]]\n",
    "    W, Y_, Erros = GradienteDescendente(X_treino, Y_treino, 2000, 0.001)\n",
    "    \n",
    "    resultado_treino.append((W, Erros[-1]))\n",
    "    \n",
    "for i, teste in enumerate(testes):\n",
    "    X_teste = testes[i][:, :-1]\n",
    "    Y_teste = testes[i][:, [-1]]\n",
    "    \n",
    "    Y_ = X_teste @ W\n",
    "    erro_teste = np.mean(( Y_teste - sigmoide(Y_)))\n",
    "    \n",
    "    resultado.append((W, Erros[-1], erro_teste))\n",
    "    "
   ]
  },
  {
   "cell_type": "code",
   "execution_count": 247,
   "metadata": {},
   "outputs": [
    {
     "data": {
      "text/plain": [
       "10"
      ]
     },
     "execution_count": 247,
     "metadata": {},
     "output_type": "execute_result"
    }
   ],
   "source": [
    "len(resultado)"
   ]
  },
  {
   "cell_type": "code",
   "execution_count": 248,
   "metadata": {},
   "outputs": [
    {
     "ename": "AttributeError",
     "evalue": "'list' object has no attribute 'min'",
     "output_type": "error",
     "traceback": [
      "\u001b[1;31m---------------------------------------------------------------------------\u001b[0m",
      "\u001b[1;31mAttributeError\u001b[0m                            Traceback (most recent call last)",
      "\u001b[1;32m<ipython-input-248-11b1b9f6dc88>\u001b[0m in \u001b[0;36m<module>\u001b[1;34m\u001b[0m\n\u001b[1;32m----> 1\u001b[1;33m \u001b[0mresultado_treino\u001b[0m\u001b[1;33m.\u001b[0m\u001b[0mmin\u001b[0m\u001b[1;33m(\u001b[0m\u001b[1;33m)\u001b[0m\u001b[1;33m\u001b[0m\u001b[1;33m\u001b[0m\u001b[0m\n\u001b[0m",
      "\u001b[1;31mAttributeError\u001b[0m: 'list' object has no attribute 'min'"
     ]
    }
   ],
   "source": [
    "resultado_treino.min()"
   ]
  },
  {
   "cell_type": "code",
   "execution_count": null,
   "metadata": {},
   "outputs": [],
   "source": []
  }
 ],
 "metadata": {
  "kernelspec": {
   "display_name": "Python 3",
   "language": "python",
   "name": "python3"
  },
  "language_info": {
   "codemirror_mode": {
    "name": "ipython",
    "version": 3
   },
   "file_extension": ".py",
   "mimetype": "text/x-python",
   "name": "python",
   "nbconvert_exporter": "python",
   "pygments_lexer": "ipython3",
   "version": "3.8.5"
  }
 },
 "nbformat": 4,
 "nbformat_minor": 4
}
